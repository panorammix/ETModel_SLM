{
 "cells": [
  {
   "cell_type": "code",
   "execution_count": 1,
   "metadata": {},
   "outputs": [],
   "source": [
    "import numpy\n",
    "from matplotlib import pyplot\n",
    "%matplotlib inline"
   ]
  },
  {
   "cell_type": "code",
   "execution_count": 2,
   "metadata": {},
   "outputs": [],
   "source": [
    "def film(Tmelt, Tinf):\n",
    "    'Returns the film temperature as an average of surface and ambient temperatues'\n",
    "    return (Tmelt + Tinf)/ 2\n",
    "\n",
    "def Ra(beta, Ts, Tinf, L_c, nou, alfa, g = 9.81):\n",
    "    'Returns the Rayleigh number'\n",
    "    return (g*beta*(Ts-Tinf)*(L_c**3)) / ( nou * alfa )\n",
    "\n",
    "def Nus ( Ra, k, L_c):\n",
    "    'Nusselt relationship for free convection on the upper surface of a hot plate'  \n",
    "    'Buoyancy forces act against gravity'\n",
    "    'Depending on the Rayleigh number given a different empirical Nusselt number correlation is used '\n",
    "    'Function calculates the Nusselt number and then returns the average heat transfer coefficient in W/mK'\n",
    "    if Ra>1e4 and Ra<=1e7:\n",
    "        Nu = 0.54 * ( Ra ** (1/4) )\n",
    "    elif Ra>1e7 and Ra<=1e10:\n",
    "        Nu = 0.15 * ( Ra ** (1/3))\n",
    "    h = k * Nu / L_c\n",
    "    return  h"
   ]
  },
  {
   "cell_type": "code",
   "execution_count": 3,
   "metadata": {},
   "outputs": [],
   "source": [
    "Tmelt = 846 # K\n",
    "Tinf = 300 # K\n",
    "Tfilm = film(Tmelt, Tinf)\n",
    "kgas = 26.8e-3 # thermal conductivity of argon at 500K and 10 ^5 Pa (almost 1 atm)\n",
    "R_sp = 208.13 # J/kgK Gas constant for argon https://www.engineeringtoolbox.com/individual-universal-gas-constant-d_588.html\n",
    "pres = 1e5 # pressure inside the processing chamber in Pascals\n",
    "rho = pres / (R_sp * Tfilm) # Density calculated at film temperature for argon gas in kg/m^3\n",
    "mou = 34.2e-6 # Dynamic viscosity of argon at 10^5 pascals (1 atm) and 500K, in Pa seconds\n",
    "\n",
    "nou = mou / rho # Kinematic viscosity of argon at 10^5 pascals (almost 1 atm) and 500K, in m^2 / seconds\n",
    "c_p = 2.5 * R_sp # For a monoatomic ideal gas :  Cp = 5/2 * R , R given in J/kgK\n",
    "alfa = kgas / (rho * c_p)# thermal diffusivity of argon gas evaluated at the film temperature, given in m^2/s"
   ]
  },
  {
   "cell_type": "code",
   "execution_count": 4,
   "metadata": {},
   "outputs": [],
   "source": [
    "length = 1e-3  # length of powder bed in meters\n",
    "width = 0.4e-3  # width of powder bed in meters\n",
    "\n",
    "area= length * width # powder bed top surface area in meters squared\n",
    "per = 2 * (length + width ) # perimeter of top surface in meters \n",
    "L_c = area / per # characteristic length for calculation of average Rayleigh number, in meters"
   ]
  },
  {
   "cell_type": "code",
   "execution_count": 7,
   "metadata": {},
   "outputs": [
    {
     "ename": "UnboundLocalError",
     "evalue": "local variable 'Nu' referenced before assignment",
     "output_type": "error",
     "traceback": [
      "\u001b[0;31m---------------------------------------------------------------------------\u001b[0m",
      "\u001b[0;31mUnboundLocalError\u001b[0m                         Traceback (most recent call last)",
      "\u001b[0;32m<ipython-input-7-09e619ae8d61>\u001b[0m in \u001b[0;36m<module>\u001b[0;34m\u001b[0m\n\u001b[1;32m      3\u001b[0m \u001b[0mRayleigh\u001b[0m \u001b[0;34m=\u001b[0m \u001b[0mRa\u001b[0m\u001b[0;34m(\u001b[0m\u001b[0mbeta\u001b[0m\u001b[0;34m,\u001b[0m \u001b[0;36m9000\u001b[0m\u001b[0;34m,\u001b[0m \u001b[0mTinf\u001b[0m\u001b[0;34m,\u001b[0m \u001b[0mL_c\u001b[0m\u001b[0;34m,\u001b[0m \u001b[0mnou\u001b[0m\u001b[0;34m,\u001b[0m \u001b[0malfa\u001b[0m\u001b[0;34m,\u001b[0m \u001b[0mg\u001b[0m \u001b[0;34m=\u001b[0m \u001b[0;36m9.81\u001b[0m\u001b[0;34m)\u001b[0m\u001b[0;34m\u001b[0m\u001b[0;34m\u001b[0m\u001b[0m\n\u001b[1;32m      4\u001b[0m \u001b[0;34m\u001b[0m\u001b[0m\n\u001b[0;32m----> 5\u001b[0;31m \u001b[0mh\u001b[0m \u001b[0;34m=\u001b[0m \u001b[0mNus\u001b[0m \u001b[0;34m(\u001b[0m \u001b[0mRayleigh\u001b[0m\u001b[0;34m,\u001b[0m \u001b[0mkgas\u001b[0m\u001b[0;34m,\u001b[0m \u001b[0mL_c\u001b[0m\u001b[0;34m)\u001b[0m\u001b[0;34m\u001b[0m\u001b[0;34m\u001b[0m\u001b[0m\n\u001b[0m",
      "\u001b[0;32m<ipython-input-2-0a6513604485>\u001b[0m in \u001b[0;36mNus\u001b[0;34m(Ra, k, L_c)\u001b[0m\n\u001b[1;32m     16\u001b[0m     \u001b[0;32melif\u001b[0m \u001b[0mRa\u001b[0m\u001b[0;34m>\u001b[0m\u001b[0;36m1e7\u001b[0m \u001b[0;32mand\u001b[0m \u001b[0mRa\u001b[0m\u001b[0;34m<=\u001b[0m\u001b[0;36m1e10\u001b[0m\u001b[0;34m:\u001b[0m\u001b[0;34m\u001b[0m\u001b[0;34m\u001b[0m\u001b[0m\n\u001b[1;32m     17\u001b[0m         \u001b[0mNu\u001b[0m \u001b[0;34m=\u001b[0m \u001b[0;36m0.15\u001b[0m \u001b[0;34m*\u001b[0m \u001b[0;34m(\u001b[0m \u001b[0mRa\u001b[0m \u001b[0;34m**\u001b[0m \u001b[0;34m(\u001b[0m\u001b[0;36m1\u001b[0m\u001b[0;34m/\u001b[0m\u001b[0;36m3\u001b[0m\u001b[0;34m)\u001b[0m\u001b[0;34m)\u001b[0m\u001b[0;34m\u001b[0m\u001b[0;34m\u001b[0m\u001b[0m\n\u001b[0;32m---> 18\u001b[0;31m     \u001b[0mh\u001b[0m \u001b[0;34m=\u001b[0m \u001b[0mk\u001b[0m \u001b[0;34m*\u001b[0m \u001b[0mNu\u001b[0m \u001b[0;34m/\u001b[0m \u001b[0mL_c\u001b[0m\u001b[0;34m\u001b[0m\u001b[0;34m\u001b[0m\u001b[0m\n\u001b[0m\u001b[1;32m     19\u001b[0m     \u001b[0;32mreturn\u001b[0m  \u001b[0mh\u001b[0m\u001b[0;34m\u001b[0m\u001b[0;34m\u001b[0m\u001b[0m\n",
      "\u001b[0;31mUnboundLocalError\u001b[0m: local variable 'Nu' referenced before assignment"
     ]
    }
   ],
   "source": [
    "\n",
    "beta = 1 / Tfilm\n",
    "\n",
    "Rayleigh = Ra(beta, 9000, Tinf, L_c, nou, alfa, g = 9.81)\n",
    "\n",
    "h = Nus ( Rayleigh, kgas, L_c)"
   ]
  },
  {
   "cell_type": "code",
   "execution_count": 8,
   "metadata": {},
   "outputs": [
    {
     "data": {
      "text/plain": [
       "0.17333038370066228"
      ]
     },
     "execution_count": 8,
     "metadata": {},
     "output_type": "execute_result"
    }
   ],
   "source": [
    "Rayleigh "
   ]
  },
  {
   "cell_type": "code",
   "execution_count": 46,
   "metadata": {},
   "outputs": [
    {
     "data": {
      "text/plain": [
       "6.2350526141319635"
      ]
     },
     "execution_count": 46,
     "metadata": {},
     "output_type": "execute_result"
    }
   ],
   "source": [
    "h"
   ]
  },
  {
   "cell_type": "code",
   "execution_count": null,
   "metadata": {},
   "outputs": [],
   "source": []
  }
 ],
 "metadata": {
  "kernelspec": {
   "display_name": "Python 3",
   "language": "python",
   "name": "python3"
  },
  "language_info": {
   "codemirror_mode": {
    "name": "ipython",
    "version": 3
   },
   "file_extension": ".py",
   "mimetype": "text/x-python",
   "name": "python",
   "nbconvert_exporter": "python",
   "pygments_lexer": "ipython3",
   "version": "3.7.3"
  }
 },
 "nbformat": 4,
 "nbformat_minor": 2
}
