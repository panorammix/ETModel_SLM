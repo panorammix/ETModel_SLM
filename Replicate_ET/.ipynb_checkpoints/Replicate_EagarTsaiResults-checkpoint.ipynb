{
 "cells": [
  {
   "cell_type": "markdown",
   "metadata": {},
   "source": [
    "\n",
    "\n",
    "## Eagar-Tsai solution\n",
    "\n",
    "The purpose of the Eagar-Tsai (ET) model is to provide information about the weld pool shape and size for a travelling Gaussian distributed heat source on a semi-infinite plate. This heat transfer model offers a physically accurate, quantitative relationship between the process, material parameters and the resulting temperature field, thus the weld size and shape. The temperature field prediction allows for a better understanding of the process physical mechanisms and  can be utilized for process control, optimization, design of experiments, microstructure and residual stresses prediction.\n",
    "\n",
    "In their paper, Eagar and Tsai compare predicted weld pool shapes with experimental weld pool shape measurements for laser welding. \n",
    "\n",
    "\n",
    "With Rosenthal's solution as a basis but using a travelling distributed heat source, Eagar and Tsai derived a solution that can predict the weld pool shape and size. Assumming a Gaussian distributed heat source function of the form \n",
    "\n",
    "\\begin{align*}\n",
    "\\large\n",
    "Q (x,y) = \\frac{q}{2\\pi\\sigma^{2}}\\exp{ \\bigg(-\\frac{x^2 + y^2}{2\\sigma^2}\\bigg)}\n",
    "\\end{align*}\n",
    "\n",
    "where, $\\sigma$ is the half-width of the arc.\n",
    "\n",
    "Eventually, the solution for a Gaussian distributed heat source moving on a semi-infinite plate with no change in phase :\n",
    "\n",
    "\\begin{align*}\n",
    "\\large\n",
    "T - T_{o} =  \\int_0^t dt'' \\frac{q}{\\pi \\rho c (4 \\pi a )^{1/2}}\\frac{t'' ^{-1/2}}{2at'' + \\sigma^{2}} exp{ \\bigg({- \\frac{ w^{2} + y^{2} + 2 wvt'' + v^2 t''^{2} } {4at'' + 2\\sigma^{2}} - \\frac{z^{2}}{4at''}}\\bigg)}\n",
    "\\end{align*}\n",
    "\n",
    "$y$: Distance in the width dimension   \n",
    "$z$: Distance in the depth dimension\n",
    "\n",
    "### In dimensionless form:  \n",
    "\n",
    "\\begin{align*}\n",
    "\\large\n",
    "\\theta = \\frac{n}{ \\sqrt {2 \\pi}} \\int_0^\\frac{v^{2} t }{2 a} d \\tau \\frac{\\tau ^{-1/2}}{\\tau + u^{2}} \\exp { \\bigg({- \\frac{ \\xi^{2} + \\psi^{2} + 2 \\xi \\tau + \\tau^{2} } {2\\tau + 2u^{2}} - \\frac{\\zeta^{2}}{2\\tau}}\\bigg)} \n",
    "\\end{align*}\n",
    "\n",
    "\\begin{align*}\n",
    "\\large\n",
    "\\xi = \\frac{vw}{2a}, \\\n",
    "\\psi = \\frac{vy}{2a}, \\\n",
    "\\zeta = \\frac{vz}{2a}, \\\n",
    "\\tau = \\frac{v^2t''}{2a},\\ \n",
    "\\end{align*}\n",
    "\n",
    "\\begin{align*}\n",
    "\\large\n",
    "\\theta = \\frac{T-T_{o}}{T_{c}-T_{o}}, \\\n",
    "u = \\frac{ v \\sigma  }{2a}, \\\n",
    "n = \\frac{qv}{4 \\pi a^2 \\rho c (T_{c}-T_{o})} \\\\ \n",
    "\\end{align*}\n",
    "\n",
    "$T_{c}$ : Critical temperature ( e.g. material melting temperature)\n",
    "\n",
    "The distribution (u) and operating parameter (n) are the two primary parameters of the solution. For $ u \\rightarrow 0$ (zero beam width) the solution reduces to Rosenthal's."
   ]
  },
  {
   "cell_type": "markdown",
   "metadata": {},
   "source": [
    "### Comments on the replication of the results from other works\n",
    "#### Tapia's thesis results\n",
    "For the case of Tapia's thesis and the replication of his results:  \n",
    "At higher speeds (higher than 2.5 m/s), the weld length, width, depth are all decreased. The max T is decreased and the maximum temperature locus is not at w = 0 but is shifted on the opposite to the traveling beam’s direction.  At lower speeds, the maximum temperature is higher than at 2.5 m/s and the maximum temperature occurs at w = 0. As the speed is increased, this point of maximum temperature starts to move left of the w=0 line. \n",
    "\n",
    "For my efforts to replicate the results of Tapia (with A = 0.4 instead of 0.3, as reported), the weld dimensions are replicated, so does the weld shape. The only difference is the location along the moving coordinate direction of the maximum temperature point on the graph.  \n",
    "Tapia results   \n",
    "Weld length : 317 um\n",
    "Weld width : 150 um \n",
    "Weld depth : 23 um\n",
    "\n",
    "My results: \n",
    "Weld length : 315 um \n",
    "Weld width : 150 um\n",
    "Weld depth : 23 um\n",
    "\n",
    "#### Publication from LLNL staff - Data Mining and Statistical Inference in Selective Laser Melting - Chandrika Kamath\n",
    "\n",
    "Kamath, Chandrika. \"Data mining and statistical inference in selective laser melting.\" The International Journal of Advanced Manufacturing Technology 86.5-8 (2016): 1659-1677.\n",
    "\n",
    "In this paper, the ET model is used a fast and inexpensive way to explore the design space for the SLM of stainless steel 316L. The author provides a table (page 7) with their results of weld depth for certain reported processing parameters. They did not report the material thermophysical properties used, except for the absorptivity.  My goal was to replicate those results with the ET model script. Comparing the melt depth results from my calculations, the highest deviation was 5 micrometers, which provides confidence for this script's accuracy."
   ]
  },
  {
   "cell_type": "code",
   "execution_count": 148,
   "metadata": {},
   "outputs": [],
   "source": [
    "import numpy\n",
    "from matplotlib import pyplot, cm\n",
    "%matplotlib inline\n",
    "from scipy.integrate import quad,quadrature,fixed_quad\n",
    "import pandas\n",
    "\n",
    "def integrand(tau,xi,psi,zi,u):\n",
    "    '''\n",
    "    Function that returns the integrand of dimensionless temperature distribution to be numerically integrated\n",
    "    \n",
    "    Inputs:\n",
    "    > tau: Integration variable\n",
    "    > xi, psi, zi: Dimensionless height, width, depth as in Eagar-Tsai paper\n",
    "    > u: Distribution parameter, ( travel speed * distribution parameter- radius ) / ( 2 * thermal diffusivity)\n",
    "    '''\n",
    "    return ((tau**(-0.5))/(tau+(u**2)))*numpy.exp(-((((xi+tau)**2)+(psi**2))/((2*tau)+(2*(u**2))))-((zi**2)/(2*tau)))\n",
    "\n",
    "def thetan_width(xi,psi,zi,u,taulim):\n",
    "    ''' \n",
    "    Function that returns the dimensionless temperature - operating parameter ratio along the geometry's \n",
    "    dimensionless width by performing quadrature on the E-T model's integral.\n",
    "    Also, it returns the absolute error of the quadrature.\n",
    "    -------\n",
    "    Inputs\n",
    "        > xi : Dimensionless length \n",
    "        > psi : Dimensionless width (array)\n",
    "        > zi : Dimensionless depth  \n",
    "        > u: Distribution parameter, ( travel speed * distribution parameter- radius ) / ( 2 * thermal diffusivity)\n",
    "        > taulim : Dimensionless time\n",
    "    -------\n",
    "    Outputs\n",
    "        > thetan : Array with values of dimensionless temperature - operating parameter ratio along dimensionless width\n",
    "        > error : Array for absolute error of quadrature\n",
    "    '''\n",
    "    integral_eval, error  = numpy.zeros ( len ( psi ) ), numpy.zeros ( len ( psi ) ) # \n",
    "    for i, psivalue in enumerate ( psi ) : #For each value of dimensionless width,evaluate integral and store value\n",
    "        integral_eval[i],error[i] = quad(integrand,0,taulim,args = ( xi, psivalue,zi,u), epsabs = 1e-10, epsrel=1e-10)\n",
    "        #integral_eval[i],error[i]=fixed_quad(integrand,0,taulim,args=(xi,psivalue,zi,u),n=8)\n",
    "    thetan = integral_eval / numpy.sqrt (2*numpy.pi) #Values of non-dimensional temperature/distribution parameter\n",
    "    return thetan, error\n",
    "\n",
    "def thetan_depth ( xi, psi, zi, u, taulim ):\n",
    "    '''\n",
    "    Function that returns the dimensionless temperature - operating parameter ratio along the geometry's \n",
    "    dimensionless depth by performing quadrature on the E-T model's integral. \n",
    "    Also, it returns the absolute error of the quadrature.\n",
    "    -------\n",
    "    Inputs\n",
    "        > xi : Dimensionless length \n",
    "        > psi : Dimensionless width \n",
    "        > zi : Dimensionless depth  (array)\n",
    "        > u : Distribution parameter, ( travel speed * distribution parameter- radius ) / ( 2 * thermal diffusivity)\n",
    "        > taulim : Dimensionless time\n",
    "    -------\n",
    "    Outputs\n",
    "        > thetan : Array with ratio of dimensionless temperature - operating parameter ratio values along depth\n",
    "        > error : Array for absolute error of quadrature \n",
    "    '''\n",
    "    integral_eval, error = numpy.zeros ( len ( zi ) ), numpy.zeros ( len ( zi ) ) \n",
    "    for i, zivalue in enumerate (zi): #For each value of dimensionless depth,evaluate integral and store value \n",
    "        integral_eval[i], error[i] = quad ( integrand, 0, taulim, args = (xi,psi,zivalue,u), epsabs=1e-10, epsrel=1e-10)\n",
    "        #integral_eval[i],error[i]=fixed_quad(integrand,0,taulim,args=(xi,psi,zivalue,u),n=8) \n",
    "    thetan = integral_eval / numpy.sqrt (2 * numpy.pi ) #Values of non-dimensional temperature/distribution parameter\n",
    "    return thetan, error\n",
    "\n",
    "def Tfield ( w, y, z, mater, power, speed, radius = 27e-6, Tambient = 300, t = 1e-3):\n",
    "    xi, psi, zi = ( speed * w ) / ( 2 * mater[3] ), ( speed * y ) / ( 2 * mater[3]), ( speed * z ) / ( 2 * mater[3] )\n",
    "    u_par = ( speed * radius ) / ( 2 * mater[3] ) # Distribution parameter\n",
    "    n_par = (  power * speed ) / ( 4 * numpy.pi * mater[2] * mater[1] * ( mater[3] ** 2 ) ) # Operating parameter\n",
    "    tau = ( ( speed ** 2 ) * t ) / ( 2 * mater[3] )\n",
    "    \n",
    "    resXY, errorXY = numpy.empty (shape=(len(y),len(w))), numpy.empty(shape=(len(y),len(w)))\n",
    "    resXZ, errorXZ = numpy.empty( shape = ( len(z), len(w) ) ), numpy.empty(shape = ( len(z), len(w) ) )\n",
    "    for i, yvalue in enumerate (psi) :\n",
    "        for j, xvalue in enumerate (xi) :\n",
    "            resXY [ i, j ] , errorXY [ i , j ] = quad ( integrand, 0.0, tau, args = ( xvalue, yvalue, 0.0, u_par ), epsabs=1e-10, epsrel=1e-10)\n",
    "    for i, zvalue in enumerate ( zi ) :\n",
    "        for j, xvalue in enumerate (xi):\n",
    "            resXZ [ i, j ], errorXZ [ i, j ] = quad ( integrand, 0.0, tau, args = (xvalue, 0.0, zvalue, u_par), epsabs=1e-12, epsrel=1e-12 )\n",
    "    \n",
    "    TXY = resXY / numpy.sqrt ( 2.0 *numpy.pi ) ; TXZ = resXZ / numpy.sqrt ( 2.0 *numpy.pi )\n",
    "    Tfield_XY = ( TXY * mater[5] * n_par ) + Tambient # Multiply by operating parameter and add ambient temperature\n",
    "    Tfield_XZ = ( TXZ * mater[5] * n_par ) + Tambient \n",
    "    return Tfield_XY, Tfield_XZ, errorXY, errorXZ\n",
    "\n",
    "def meltdim( TXY, TXZ, w, y, z, Tmelt,  tol = 1.0 ):\n",
    "    XZpos = numpy.where((TXZ >= (Tmelt - tol)) & (TXZ <= (Tmelt + tol)))\n",
    "    max_depth = abs (numpy.min(z[XZpos[0]]) / 1e-6)\n",
    "    XYpos = numpy.where (( TXY >= Tmelt - tol ) & (TXY <= Tmelt + tol))\n",
    "    max_width = numpy.max (y[XYpos[0]]) / 1e-6\n",
    "    max_length = numpy.max(w[XYpos[1]]) / 1e-6\n",
    "    melt_dimensions = numpy.array([max_length, max_width, max_depth])\n",
    "    melt_dimensions = numpy.around(melt_dimensions,1)\n",
    "    return melt_dimensions\n",
    "\n",
    "def contour_plots (TfieldXY, TfieldXZ, w, y, z, Tmelt, meltdimensions, font):\n",
    "    pyplot.rcParams['font.family'] = 'serif'\n",
    "    pyplot.rcParams['font.size'] = font\n",
    "    ET_contour_graphs = pyplot.figure ( figsize = ( 10 , 8 ) ) ;\n",
    "    pyplot.subplot(211) \n",
    "    pyplot.tick_params (labeltop = False, labelright = False, labelleft = True )\n",
    "    xgridXY, ygridXY = numpy.meshgrid ( w, y )\n",
    "    xgridXY = xgridXY * (10**6) ; ygridXY = ygridXY * (10**6) ;\n",
    "    contoursXY = pyplot.contourf ( xgridXY, ygridXY, TfieldXY,levels = 25, cmap = cm.plasma )\n",
    "    cbarXY = pyplot.colorbar ( contoursXY )\n",
    "    meltlinesXY = pyplot.contour(xgridXY, ygridXY, TfieldXY ,[ Tmelt ], colors = ( 'white' ),linewidths=(2),linestyles='--')\n",
    "    pyplot.title ('E-T model, Steady temperature field, A = '+ str(Absor) , fontsize = font)\n",
    "    pyplot.ylabel('Width, y $[μm]$') ; #pyplot.xlabel('Length $[μm]$')\n",
    "    cbarXY.set_label('Temperature  $ [K] $')\n",
    "    #pyplot.axhline(y = melt_dimensions[1],color='black', linestyle='--' ) ;\n",
    "    #pyplot.axvline(x = melt_dimensions[0],color='black', linestyle='--');\n",
    "    #pyplot.subplots_adjust (hspace = 0.05)\n",
    "    \n",
    "    pyplot.subplot(212)\n",
    "    pyplot.tick_params(labeltop = False, labelright=False,labelleft=True)\n",
    "    #pyplot.gca().invert_yaxis()\n",
    "    xgridXZ, ygridXZ = numpy.meshgrid ( w, z )\n",
    "    xgridXZ = xgridXZ * (10**6) ; ygridXZ = ygridXZ * (10**6) ;\n",
    "    contoursXZ = pyplot.contourf ( xgridXZ, ygridXZ, TfieldXZ, levels = 25, cmap = cm.plasma )\n",
    "    cbarXZ = pyplot.colorbar(contoursXZ)\n",
    "    contlinesXZ = pyplot.contour(xgridXZ, ygridXZ, TfieldXZ, [ Tmelt ],colors=('white'),linewidths=(2),linestyles= '--')\n",
    "    cbarXZ.set_label('Temperature  $ [K] $' )\n",
    "    pyplot.ylabel('Depth, z $ [μm]$') ; pyplot.xlabel('Length, w $[μm]$')\n",
    "    #pyplot.axhline(y = -melt_dimensions[2], color = 'black', linestyle = '--');\n",
    "    #pyplot.axvline(x = melt_dimensions[0], color = 'black', linestyle = '--');\n",
    "    pyplot.savefig('Contourexample.png')\n",
    "    pyplot.show()"
   ]
  },
  {
   "cell_type": "code",
   "execution_count": 149,
   "metadata": {},
   "outputs": [
    {
     "data": {
      "image/png": "[encoded data removed]",
      "text/plain": [
       "<Figure size 720x576 with 4 Axes>"
      ]
     },
     "metadata": {
      "needs_background": "light"
     },
     "output_type": "display_data"
    }
   ],
   "source": [
    "contour_plots (TfXY, TfXZ, w, y, z, Tmelt, melt_dimensions, font = 15.0)\n"
   ]
  },
  {
   "cell_type": "markdown",
   "metadata": {},
   "source": [
    "# Define parameters from Tapia's thesis - Case of 430F stainless steel\n",
    "# Reference: Tapia Imbaquingo, Gustavo Andres. Quantifying and \n",
    "# Reducing Uncertainty in Metal-Based Additive Manufacturing Laser Powder-Bed Fusion Processes. Diss. 2018.\n",
    "k_solid = 26.3\n",
    "C_solid = 460\n",
    "rho_solid = 7800\n",
    "a_solid = k_solid / ( rho_solid * C_solid )\n",
    "Tmelt = 1460\n",
    "Tambient = 300\n",
    "\n",
    "Absor = 0.4\n",
    "power = 200\n",
    "speed = 2.5\n",
    "radius = 50e-06\n",
    "t = 1e-03\n",
    "\n",
    "points = 200\n",
    "w = numpy.linspace ( -400e-06, 150e-06, points )\n",
    "y = numpy.linspace ( -100e-06, 100e-06, points )\n",
    "z = numpy.linspace ( 0, -150e-06, points  )\n",
    "\n",
    "xi = ( speed * w ) / ( 2 * a_solid )\n",
    "psi = ( speed * y ) / ( 2 * a_solid )\n",
    "zi = ( speed * z ) / ( 2 * a_solid )\n",
    "\n",
    "u_par = ( speed * radius ) / ( 2 * a_solid ) # Distribution parameter\n",
    "n_par = (  power * speed ) / ( 4 * numpy.pi * rho_solid * C_solid * ( a_solid ** 2 ) ) # Operating parameter\n",
    "tau = ( ( speed ** 2 ) * t ) / ( 2 * a_solid )\n",
    "print ( tau, u_par, n_par )"
   ]
  },
  {
   "cell_type": "code",
   "execution_count": 2,
   "metadata": {},
   "outputs": [
    {
     "name": "stdout",
     "output_type": "stream",
     "text": [
      "Absorptivity: 0.3\n"
     ]
    }
   ],
   "source": [
    "# Case of 316L stainless steel\n",
    "k_solid = 16.2 # 16.2 at 100C and 14.6 at RT\n",
    "C_solid = 500.0 \n",
    "rho_solid = 8030.0\n",
    "a_solid = k_solid / ( rho_solid * C_solid )\n",
    "Tmelt = 1390.0 + 273.15\n",
    "Absor = 0.3 # or 0.5\n",
    "\n",
    "radius = 27e-06\n",
    "\n",
    "mater = numpy.array( [k_solid, C_solid, rho_solid, a_solid, Tmelt, Absor ] ) #!!!!!!!!!\n",
    "#procs = numpy.array ( [power, speed, radius ] ) #!!!!!!!!!!!!!!\n",
    "\n",
    "points = 450\n",
    "w = numpy.linspace ( -400e-06, 100e-06, points )\n",
    "y = numpy.linspace ( -100e-06, 100e-06, points )\n",
    "z = numpy.linspace ( 0.0, -100e-06, points )\n",
    "print ('Absorptivity: {}'.format(Absor))"
   ]
  },
  {
   "cell_type": "code",
   "execution_count": 3,
   "metadata": {},
   "outputs": [],
   "source": [
    "TfXY, TfXZ, ErXY, ErXZ = Tfield ( w, y, z, mater, 150, 1.8, radius = 27e-6, Tambient = 300, t = 1e-3)"
   ]
  },
  {
   "cell_type": "code",
   "execution_count": 4,
   "metadata": {},
   "outputs": [
    {
     "data": {
      "text/plain": [
       "(300.00000000103336, 300.0039268096374)"
      ]
     },
     "execution_count": 4,
     "metadata": {},
     "output_type": "execute_result"
    }
   ],
   "source": [
    "numpy.min(TfXZ), numpy.min(TfXY)"
   ]
  },
  {
   "cell_type": "code",
   "execution_count": 5,
   "metadata": {},
   "outputs": [],
   "source": [
    "melt_dimensions = meltdim( TfXY, TfXZ,w, y, z, Tmelt, tol = 3.0 )"
   ]
  },
  {
   "cell_type": "code",
   "execution_count": null,
   "metadata": {},
   "outputs": [],
   "source": [
    "trial = 'Replicate'"
   ]
  },
  {
   "cell_type": "code",
   "execution_count": null,
   "metadata": {
    "scrolled": true
   },
   "outputs": [],
   "source": [
    "powers = numpy.array ( [ 400, 300, 200, 150])\n",
    "speeds = numpy.array ( [ 1.8, 1.5, 1.2, 0.8, 0.5])"
   ]
  },
  {
   "cell_type": "code",
   "execution_count": null,
   "metadata": {},
   "outputs": [],
   "source": [
    "print ('Powers to run (in W)', powers)\n",
    "print( 'Speeds to run (in m/s)', speeds)"
   ]
  },
  {
   "cell_type": "code",
   "execution_count": null,
   "metadata": {},
   "outputs": [],
   "source": [
    "%%time\n",
    "melt_length = numpy.empty([len(powers),len(speeds)])\n",
    "melt_width = numpy.empty([len(powers),len(speeds)])\n",
    "melt_depth = numpy.empty([len(powers),len(speeds)])\n",
    "Tmax = numpy.empty([len(powers),len(speeds)])\n",
    "row_names = []\n",
    "for i, P in enumerate(powers):\n",
    "    column_names = []\n",
    "    row_names.append(str(P))\n",
    "    for j, v in enumerate(speeds):\n",
    "        TfieldXY, TfieldXZ, ErrorXY, ErrorXZ = Tfield (w, y, z, mater, P, v)\n",
    "        melt_dimensions = meltdim( TfieldXY, TfieldXZ,w, y, z, Tmelt, tol = 3.0 )\n",
    "        Tmax [ i, j ] = numpy.max ( TfieldXY )\n",
    "        melt_length[i,j] = melt_dimensions[0]\n",
    "        melt_width[i,j] = melt_dimensions[1]\n",
    "        melt_depth[i,j] = melt_dimensions[2]\n",
    "        column_names.append(str(v))"
   ]
  },
  {
   "cell_type": "code",
   "execution_count": null,
   "metadata": {},
   "outputs": [],
   "source": [
    "numpy.savetxt(trial+'/TMax_'+trial, Tmax, delimiter=' | ', header = trial)\n",
    "numpy.savetxt(trial+'/Powers_'+trial,powers, delimiter = ' | ', header  = trial)\n",
    "numpy.savetxt(trial+'/Speeds_'+trial,speeds, delimiter = ' | ', header  = trial)\n",
    "numpy.savetxt(trial+'/Lengths_'+trial,melt_length, delimiter= ' | ', header  = trial)\n",
    "numpy.savetxt(trial+'/Widths_'+trial,melt_width, delimiter= ' | ', header  = trial)\n",
    "numpy.savetxt(trial+'/Depths_'+trial,melt_depth, delimiter= ' | ', header  = trial)"
   ]
  },
  {
   "cell_type": "code",
   "execution_count": null,
   "metadata": {
    "scrolled": true
   },
   "outputs": [],
   "source": [
    "MD = pandas.DataFrame(melt_depth, columns = column_names, index = row_names)\n",
    "MD.style.set_caption ('Melt Depth | '+' A = ' + str(Absor) + ' | r = '+ str(radius)+ ' |')"
   ]
  },
  {
   "cell_type": "code",
   "execution_count": null,
   "metadata": {},
   "outputs": [],
   "source": [
    "Tmax = pandas.DataFrame(numpy.round(Tmax,0), columns = column_names, index = row_names)\n",
    "Tmax.style.set_caption ('Maximum Temperature|'' '+' A = ' + str(Absor) + ' | r = '+ str(radius)+ ' |')"
   ]
  },
  {
   "cell_type": "code",
   "execution_count": null,
   "metadata": {},
   "outputs": [],
   "source": [
    "Pgrid, Vgrid = numpy.meshgrid(powers, speeds)"
   ]
  },
  {
   "cell_type": "code",
   "execution_count": null,
   "metadata": {},
   "outputs": [],
   "source": [
    "numpy.shape(Pgrid)"
   ]
  },
  {
   "cell_type": "code",
   "execution_count": null,
   "metadata": {},
   "outputs": [],
   "source": [
    "numpy.max(TfieldXY), numpy.max(ErrXY), numpy.max(TfieldXZ), numpy.max(ErrXZ)"
   ]
  },
  {
   "cell_type": "markdown",
   "metadata": {},
   "source": [
    "# STOP "
   ]
  },
  {
   "cell_type": "markdown",
   "metadata": {},
   "source": [
    "# Replicating Eagar-Tsai publication results \n",
    "\n",
    "Here, an attempt is made to replicate the results reported by Eagar and Tsai in their 1983 paper \"Temperature Fields Produced by Travelling Distributed Heat Sources\". \n",
    "\n",
    "The dimensionless solution form is utilized for calculations of the **peak** dimensionless temperature distributions along the dimensionless width and depth dimensions. All the dimensionless temperatures are divided by the operating parameter, $n$, in order to include all curves on a single graph.\n",
    "\n",
    "In their paper, Eagar and Tsai note that depending on the parameters n and u , the center-line temperature may often **exceed the boiling temperature of metals**."
   ]
  },
  {
   "cell_type": "code",
   "execution_count": null,
   "metadata": {},
   "outputs": [],
   "source": [
    "# How the integrand function behaves along the variable of integration\n",
    "tau_t = numpy.linspace(0,200,100)\n",
    "xi_t = 4\n",
    "psi_t = 10\n",
    "zi_t = 0\n",
    "u_t = 8\n",
    "pyplot.plot (tau_t,integrand(tau_t,xi_t,psi_t,zi_t,u_t))\n",
    "pyplot.title ('Integrand function') ;  pyplot.xlabel ('Dimensionless time, $ τ $') ; pyplot.ylabel(' $ f(τ)$ ');"
   ]
  },
  {
   "cell_type": "markdown",
   "metadata": {},
   "source": [
    "### Define model  parameters, run and output simulation results"
   ]
  },
  {
   "cell_type": "code",
   "execution_count": null,
   "metadata": {},
   "outputs": [],
   "source": [
    "#Carbon steel \n",
    "#k=33 #W/mK thermal conductivity     Heat capacity: ρ*C = 5.4e06 J/mK, α = 0.05e-04 m^2/s\n",
    "#To=300 #K initial temperature (ambient)\n",
    "#a=4*(10**-6)#m^2/s #After calculations from paper\n",
    "#v_ET=0.25/1000 #m/s Order of scan speeds used in E-T model; \n",
    "\n",
    "points = 1000\n",
    "uvalues = numpy.array ( [ 0.4, 0.6, 0.8] )\n",
    "\n",
    "xi_width = 0\n",
    "psi_width = numpy.linspace ( 0, 3, points)\n",
    "zi_width = 0\n",
    "tau_width = 2\n",
    "\n",
    "xi_depth = 0\n",
    "psi_depth = 0\n",
    "zi_depth = numpy.linspace ( 0, 3, points )\n",
    "tau_depth = 2\n",
    "\n",
    "pyplot.figure(figsize=(14,7)); font=18 \n",
    "\n",
    "Distr_depth=numpy.zeros((len(uvalues),len(zi_depth)))  ; Error_depth=numpy.zeros((len(uvalues),len(zi_depth)))\n",
    "Distr_width=numpy.zeros((len(uvalues),len(psi_width))) ; Error_width=numpy.zeros((len(uvalues),len(psi_width)))\n",
    "\n",
    "#Plot dimensionless temperature distribution along dimensionless width as a function of distribution parameter\n",
    "pyplot.subplot(121)\n",
    "for i, uvalue in enumerate ( uvalues ) :\n",
    "    Distr_width[i,:],Error_width[i,:] = thetan_width (xi_width, psi_width, zi_width, uvalue,tau_width)\n",
    "    pyplot.plot( psi_width, Distr_width[i,:], label= 'u= '+ str ( uvalue ) )\n",
    "\n",
    "pyplot.legend(loc='best', fontsize=font) ; pyplot.title(' Peak T distr. along width, $ψ$', fontsize=font) ; \n",
    "pyplot.ylabel('$ θ /n $', fontsize=font) ; pyplot.xlabel('$ Dimensionless \\ width, ψ $',fontsize=font)\n",
    "pyplot.yticks( numpy.arange ( 0, 2.2, 0.2), fontsize=font) ; pyplot.xticks( numpy.arange ( 0, 3.6, 0.6), fontsize=font)\n",
    "pyplot.xlim(0,3); pyplot.ylim(0);\n",
    "\n",
    "# Plot dimensionless temperature distribution along dimensionless depth as a function of distribution parameter\n",
    "pyplot.subplot ( 122 )\n",
    "for i, uvalue in enumerate ( uvalues ) :\n",
    "    Distr_depth[i,:], Error_depth[i,:] = thetan_depth ( xi_depth, psi_depth, zi_depth, uvalue, tau_depth )\n",
    "    pyplot.plot (zi_depth,Distr_depth[i,:], label = 'u= '+ str ( uvalue ) )\n",
    "    \n",
    "pyplot.legend( loc='best', fontsize = font) ; pyplot.title(' Peak T distr. along depth, $ ζ $', fontsize = font )\n",
    "pyplot.ylabel( '$ θ /n $', fontsize = font) ; pyplot.xlabel('$ Dimensionless \\ depth, ζ $',fontsize = font )\n",
    "pyplot.yticks( numpy.arange ( 0, 2.2, 0.2), fontsize=font) ; pyplot.xticks( numpy.arange ( 0, 3.6, 0.6), fontsize=font)\n",
    "pyplot.xlim(0,3); pyplot.ylim (0);\n",
    "pyplot.subplots_adjust( wspace = 0.5 )"
   ]
  },
  {
   "cell_type": "code",
   "execution_count": null,
   "metadata": {},
   "outputs": [],
   "source": [
    "print ('Maximum absolute error of quadrature for both cases (width, depth):') \n",
    "numpy.max(Error_width), numpy.max(Error_depth)"
   ]
  },
  {
   "cell_type": "markdown",
   "metadata": {},
   "source": [
    "### Comments: \n",
    "- For best replication of results of θ/n versus dimensionless depth ( $\\zeta$ ) use **fixed_quad** for quadrature of order **n = 8**  and upper limit of integration **$\\tau$ = 5 or 6**. Also set $\\xi, \\psi = 0 \\ (centerline).$\n",
    "\n",
    "- This will yield results closer to the results of the E-T paper for the depth graph but not for width. \n",
    "- For the case of width, the curves behave similarly, however, the magnitudes of the surface temperature are calculated to be smaller than the E-T paper's reported results. \n",
    "- In their paper, Eagar and Tsai do not report details on the calculation of these results, such as the type and/or order of numerical quadrature they utilized, limits of integration, etc.  \n",
    "- Thus, exact replication of the results was not possible for both cases."
   ]
  },
  {
   "cell_type": "markdown",
   "metadata": {},
   "source": [
    "### Calculating and plotting weld depth vs operating parameter as a function of u"
   ]
  },
  {
   "cell_type": "code",
   "execution_count": null,
   "metadata": {},
   "outputs": [],
   "source": [
    "#pyplot.rcParams['ytick.right'] = pyplot.rcParams['ytick.labelright'] = True\n",
    "#pyplot.rcParams['ytick.left'] = pyplot.rcParams['ytick.labelleft'] = False\n",
    "pyplot.figure(figsize=(15,7))\n",
    "\n",
    "nvalues=numpy.linspace(0,1.5,1000)  \n",
    "WD=numpy.empty((len(uvalues),len(nvalues)))\n",
    "WD[:]=numpy.nan\n",
    "\n",
    "for i in [0,1,2]:\n",
    "    lab=str(uvalues[i]); lab='u='+lab\n",
    "   \n",
    "    j=0\n",
    "    for nvalue in nvalues:\n",
    "        array=Distr_depth[i,:]\n",
    "        arrayn=array*nvalue\n",
    "        k=0\n",
    "        for theta in arrayn:\n",
    "            residual=theta-1\n",
    "            if residual<0.01:\n",
    "                WD[i,j]=zi_depth[k]\n",
    "                break\n",
    "            else:\n",
    "                k=k+1\n",
    "        j=j+1\n",
    "    \n",
    "    pyplot.plot(nvalues,WD[i,:],label=lab)\n",
    "    #pyplot.scatter(nvalues,WD[i,:])\n",
    "\n",
    "font=18\n",
    "pyplot.legend(loc='best', fontsize=font)\n",
    "pyplot.xlabel('n parameter',fontsize=font)\n",
    "pyplot.ylabel('Weld depth',fontsize=font)\n",
    "pyplot.title('Dimensionless weld depth vs operating parameter as a function of u',fontsize=font)\n",
    "pyplot.yticks(numpy.linspace(0,1,11),fontsize=font, rotation=0)\n",
    "pyplot.xticks(numpy.linspace(0,1.5,11),fontsize=font, rotation=0);\n",
    "pyplot.xlim(0,1.5); pyplot.ylim(0);"
   ]
  },
  {
   "cell_type": "markdown",
   "metadata": {},
   "source": [
    "### Calculating and plotting weld width vs operating parameter as a function of u"
   ]
  },
  {
   "cell_type": "code",
   "execution_count": null,
   "metadata": {},
   "outputs": [],
   "source": [
    "pyplot.rcParams['ytick.left']  = True\n",
    "ax=pyplot.figure(figsize=(15,7))\n",
    "nvalues=numpy.linspace(0,6,1000)  \n",
    "WW=numpy.empty((len(uvalues),len(nvalues)))\n",
    "WW[:]=numpy.nan\n",
    "\n",
    "for i in [0,1,2]:\n",
    "    lab=str(uvalues[i]); lab='u='+lab\n",
    "    j=0\n",
    "    for nvalue in nvalues:\n",
    "        array=Distr_width[i,:]\n",
    "        arrayn=array*nvalue\n",
    "        k=0\n",
    "        for theta in arrayn:\n",
    "            residual=theta-1\n",
    "            if residual<0.001:\n",
    "                WW[i,j]=psi_width[k]\n",
    "                break\n",
    "            else:\n",
    "                k=k+1\n",
    "        j=j+1\n",
    "    pyplot.plot(nvalues,WW[i,:],label=lab)\n",
    "    #pyplot.scatter(nvalues,WW[i,:])\n",
    "\n",
    "font=18\n",
    "pyplot.legend(loc='best', fontsize=font)\n",
    "pyplot.xlabel('n parameter',fontsize=font)\n",
    "pyplot.ylabel('Weld width',fontsize=font)\n",
    "pyplot.title('Dimensionless weld width vs operating parameter as a function of u',fontsize=font);\n",
    "pyplot.yticks(numpy.linspace(0,1,21),fontsize=font, rotation=0)\n",
    "pyplot.xticks(numpy.linspace(0,1.5,11),fontsize=font, rotation=0);\n",
    "pyplot.xlim(0,1.5);pyplot.ylim(0,1);"
   ]
  }
 ],
 "metadata": {
  "kernelspec": {
   "display_name": "Python 3",
   "language": "python",
   "name": "python3"
  },
  "language_info": {
   "codemirror_mode": {
    "name": "ipython",
    "version": 3
   },
   "file_extension": ".py",
   "mimetype": "text/x-python",
   "name": "python",
   "nbconvert_exporter": "python",
   "pygments_lexer": "ipython3",
   "version": "3.7.3"
  }
 },
 "nbformat": 4,
 "nbformat_minor": 2
}
