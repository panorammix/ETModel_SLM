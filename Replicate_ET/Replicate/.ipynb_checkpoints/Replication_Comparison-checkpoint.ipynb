{
 "cells": [
  {
   "cell_type": "code",
   "execution_count": 6,
   "metadata": {},
   "outputs": [],
   "source": [
    "import numpy\n",
    "import pandas"
   ]
  },
  {
   "cell_type": "code",
   "execution_count": 5,
   "metadata": {},
   "outputs": [],
   "source": [
    "melt_depth = numpy.loadtxt('Depths_Replicate', delimiter = ' | ')\n",
    "powers = numpy.loadtxt('Powers_Replicate', delimiter = ' | ')\n",
    "speeds = numpy.loadtxt('Speeds_Replicate', delimiter = ' | ')\n",
    "Tmax = numpy.loadtxt('TMax_Replicate', delimiter = ' | ')"
   ]
  },
  {
   "cell_type": "code",
   "execution_count": 8,
   "metadata": {},
   "outputs": [
    {
     "data": {
      "text/html": [
       "<div>\n",
       "<style scoped>\n",
       "    .dataframe tbody tr th:only-of-type {\n",
       "        vertical-align: middle;\n",
       "    }\n",
       "\n",
       "    .dataframe tbody tr th {\n",
       "        vertical-align: top;\n",
       "    }\n",
       "\n",
       "    .dataframe thead th {\n",
       "        text-align: right;\n",
       "    }\n",
       "</style>\n",
       "<table border=\"1\" class=\"dataframe\">\n",
       "  <thead>\n",
       "    <tr style=\"text-align: right;\">\n",
       "      <th></th>\n",
       "      <th>1.8</th>\n",
       "      <th>1.5</th>\n",
       "      <th>1.2</th>\n",
       "      <th>0.8</th>\n",
       "      <th>0.5</th>\n",
       "    </tr>\n",
       "  </thead>\n",
       "  <tbody>\n",
       "    <tr>\n",
       "      <td>400.0</td>\n",
       "      <td>47.2</td>\n",
       "      <td>52.6</td>\n",
       "      <td>59.9</td>\n",
       "      <td>75.1</td>\n",
       "      <td>95.5</td>\n",
       "    </tr>\n",
       "    <tr>\n",
       "      <td>300.0</td>\n",
       "      <td>39.4</td>\n",
       "      <td>44.1</td>\n",
       "      <td>50.3</td>\n",
       "      <td>63.7</td>\n",
       "      <td>82.0</td>\n",
       "    </tr>\n",
       "    <tr>\n",
       "      <td>200.0</td>\n",
       "      <td>29.8</td>\n",
       "      <td>33.6</td>\n",
       "      <td>39.0</td>\n",
       "      <td>49.7</td>\n",
       "      <td>64.8</td>\n",
       "    </tr>\n",
       "    <tr>\n",
       "      <td>150.0</td>\n",
       "      <td>24.1</td>\n",
       "      <td>27.4</td>\n",
       "      <td>31.8</td>\n",
       "      <td>41.2</td>\n",
       "      <td>54.1</td>\n",
       "    </tr>\n",
       "  </tbody>\n",
       "</table>\n",
       "</div>"
      ],
      "text/plain": [
       "        1.8   1.5   1.2   0.8   0.5\n",
       "400.0  47.2  52.6  59.9  75.1  95.5\n",
       "300.0  39.4  44.1  50.3  63.7  82.0\n",
       "200.0  29.8  33.6  39.0  49.7  64.8\n",
       "150.0  24.1  27.4  31.8  41.2  54.1"
      ]
     },
     "execution_count": 8,
     "metadata": {},
     "output_type": "execute_result"
    }
   ],
   "source": [
    "pandas.DataFrame(melt_depth, columns = numpy.ndarray.tolist(speeds), index = numpy.ndarray.tolist(powers))"
   ]
  },
  {
   "cell_type": "code",
   "execution_count": 24,
   "metadata": {},
   "outputs": [],
   "source": [
    "MD_flat = melt_depth.flatten()"
   ]
  },
  {
   "cell_type": "code",
   "execution_count": 31,
   "metadata": {},
   "outputs": [
    {
     "data": {
      "text/plain": [
       "array([47.2, 52.6, 59.9, 39.4, 44.1, 50.3, 63.7, 33.6, 39. , 49.7, 64.8,\n",
       "       31.8, 41.2, 54.1])"
      ]
     },
     "execution_count": 31,
     "metadata": {},
     "output_type": "execute_result"
    }
   ],
   "source": [
    "MD_this = numpy.array([47.2, 52.6, 59.9, 39.4, 44.1, 50.3, 63.7, 33.6, 39.0, 49.7, 64.8, 31.8, 41.2, 54.1])\n",
    "MD_this"
   ]
  },
  {
   "cell_type": "code",
   "execution_count": 33,
   "metadata": {},
   "outputs": [
    {
     "data": {
      "text/plain": [
       "(14,)"
      ]
     },
     "execution_count": 33,
     "metadata": {},
     "output_type": "execute_result"
    }
   ],
   "source": [
    "numpy.shape(MD_this)"
   ]
  },
  {
   "cell_type": "code",
   "execution_count": 34,
   "metadata": {},
   "outputs": [],
   "source": [
    "MD_kamath = numpy.array( [ 50.4, 57.6, 62.4, 43.2, 48.0, 55.2, 67.2, 38.4, 43.2, 52.8, 67.2, 36.0, 43.2, 55.2])"
   ]
  },
  {
   "cell_type": "code",
   "execution_count": 35,
   "metadata": {},
   "outputs": [
    {
     "data": {
      "text/plain": [
       "(14,)"
      ]
     },
     "execution_count": 35,
     "metadata": {},
     "output_type": "execute_result"
    }
   ],
   "source": [
    "numpy.shape(MD_kamath)"
   ]
  },
  {
   "cell_type": "code",
   "execution_count": 41,
   "metadata": {},
   "outputs": [
    {
     "data": {
      "text/plain": [
       "array([3.2, 5. , 2.5, 3.8, 3.9, 4.9, 3.5, 4.8, 4.2, 3.1, 2.4, 4.2, 2. ,\n",
       "       1.1])"
      ]
     },
     "execution_count": 41,
     "metadata": {},
     "output_type": "execute_result"
    }
   ],
   "source": [
    " (MD_kamath-MD_this)"
   ]
  },
  {
   "cell_type": "code",
   "execution_count": 47,
   "metadata": {},
   "outputs": [
    {
     "data": {
      "text/plain": [
       "array([ 6.8,  9.5,  4.2,  9.6,  8.8,  9.7,  5.5, 14.3, 10.8,  6.2,  3.7,\n",
       "       13.2,  4.9,  2. ])"
      ]
     },
     "execution_count": 47,
     "metadata": {},
     "output_type": "execute_result"
    }
   ],
   "source": [
    "numpy.around(( (MD_kamath-MD_this)/ MD_this ) * 100, 1)"
   ]
  },
  {
   "cell_type": "code",
   "execution_count": 48,
   "metadata": {},
   "outputs": [
    {
     "data": {
      "text/plain": [
       "array([ 7., 10.,  4., 10.,  9., 10.,  5., 14., 11.,  6.,  4., 13.,  5.,\n",
       "        2.])"
      ]
     },
     "execution_count": 48,
     "metadata": {},
     "output_type": "execute_result"
    }
   ],
   "source": [
    "numpy.around(( (MD_kamath-MD_this)/ MD_this ) * 100, 0)"
   ]
  },
  {
   "cell_type": "code",
   "execution_count": null,
   "metadata": {},
   "outputs": [],
   "source": []
  }
 ],
 "metadata": {
  "kernelspec": {
   "display_name": "Python 3",
   "language": "python",
   "name": "python3"
  },
  "language_info": {
   "codemirror_mode": {
    "name": "ipython",
    "version": 3
   },
   "file_extension": ".py",
   "mimetype": "text/x-python",
   "name": "python",
   "nbconvert_exporter": "python",
   "pygments_lexer": "ipython3",
   "version": "3.7.3"
  }
 },
 "nbformat": 4,
 "nbformat_minor": 2
}
