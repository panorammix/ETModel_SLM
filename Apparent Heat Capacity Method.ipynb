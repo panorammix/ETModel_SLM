{
 "cells": [
  {
   "cell_type": "code",
   "execution_count": 52,
   "metadata": {},
   "outputs": [
    {
     "data": {
      "image/png": "[encoded data removed]",
      "text/plain": [
       "<Figure size 432x288 with 1 Axes>"
      ]
     },
     "metadata": {},
     "output_type": "display_data"
    }
   ],
   "source": [
    "import numpy\n",
    "from matplotlib import pyplot\n",
    "%matplotlib inline\n",
    "T_m = 846\n",
    "dT = 20\n",
    "T_l = T_m + dT\n",
    "\n",
    "T_s = T_m - dT \n",
    "\n",
    "Lf = 151.53 * ( 10 ** 3 ) # J/kg\n",
    "\n",
    "def Cp ( T ) :\n",
    "    '''\n",
    "    T : Temperature in degrees Celsius\n",
    "    Specific heat capacity for Bi2Te3 below 500 C calculated in cal/deg*C\n",
    "    and converted and returned in J/kgK\n",
    "    Ref: Bolling, G. F. \"Erratum: Addendum to Some Thermal Data for Bi2Te3.\" \n",
    "    The Journal of Chemical Physics 36.4 (1962): 1085-1086.\n",
    "    '''\n",
    "    Cp = ( 3 * ( 10 ** - 2 ) ) + ( 2 * ( 10 ** -5 ) ) * T # Result in cal/deg*g\n",
    "    Cp = Cp * 4186.8 #Convert to J/kgK\n",
    "    return Cp\n",
    "\n",
    "C_s = Cp ( 27 )\n",
    "\n",
    "\n",
    "def C_apparent ( C_solid, latent_heat, T_solidus, T_liquidus, T_melting, Temperature ):\n",
    "    num = numpy.exp(-(((Temperature-T_melting)** 2)/((T_liquidus - T_solidus)**2)))\n",
    "    den =numpy.sqrt ( numpy.pi* ((T_liquidus - T_solidus)**2) )\n",
    "    Apparent_capacity=C_solid+ (latent_heat*(num/den))\n",
    "    return Apparent_capacity \n",
    "\n",
    "T_ini = numpy.linspace(300,T_s,100)\n",
    "T_tra = numpy.linspace(T_s,T_l,100)\n",
    "\n",
    "pyplot.figure()\n",
    "\n",
    "pyplot.plot (T_tra,C_apparent (C_s,Lf,T_s,T_l,T_m,T_tra))\n",
    "CSarray = numpy.zeros((100,1))\n",
    "CSarray[:] = C_s\n",
    "pyplot.plot(T_ini,CSarray)\n",
    "\n",
    "CLarray = numpy.zeros((100,1))\n",
    "CLarray[:] = (C_s + (Lf/T_m))\n",
    "T_after = numpy.linspace(T_l,1000,100)\n",
    "pyplot.plot(T_after, CLarray)\n",
    "\n",
    "pyplot.plot()\n",
    "pyplot.xlim(700,890)\n",
    "pyplot.axvline(x=T_s,color='black', linestyle='--');\n",
    "pyplot.axvline(x=T_l,color='blue', linestyle='--');\n",
    "pyplot.axvline(x=T_m,color='red', linestyle='--');"
   ]
  },
  {
   "cell_type": "code",
   "execution_count": 42,
   "metadata": {},
   "outputs": [
    {
     "data": {
      "text/plain": [
       "(100, 1)"
      ]
     },
     "execution_count": 42,
     "metadata": {},
     "output_type": "execute_result"
    }
   ],
   "source": [
    "numpy.shape(CSarray)"
   ]
  },
  {
   "cell_type": "code",
   "execution_count": 43,
   "metadata": {},
   "outputs": [
    {
     "data": {
      "text/plain": [
       "(100,)"
      ]
     },
     "execution_count": 43,
     "metadata": {},
     "output_type": "execute_result"
    }
   ],
   "source": [
    "numpy.shape(T_ini)\n"
   ]
  },
  {
   "cell_type": "code",
   "execution_count": 19,
   "metadata": {},
   "outputs": [
    {
     "data": {
      "text/plain": [
       "127.86565278909225"
      ]
     },
     "execution_count": 19,
     "metadata": {},
     "output_type": "execute_result"
    }
   ],
   "source": [
    "C_apparent (C_s,Lf,T_s,T_l,T_m,1000)"
   ]
  },
  {
   "cell_type": "code",
   "execution_count": 54,
   "metadata": {},
   "outputs": [
    {
     "data": {
      "text/plain": [
       "35.44907701811032"
      ]
     },
     "execution_count": 54,
     "metadata": {},
     "output_type": "execute_result"
    }
   ],
   "source": [
    "(numpy.sqrt(numpy.pi*400))"
   ]
  },
  {
   "cell_type": "code",
   "execution_count": null,
   "metadata": {},
   "outputs": [],
   "source": [
    "( 3 * ( 10 ** - 2 ) ) + ( 2 * ( 10 ** -5 ) ) * T # Result in cal/deg*g\n",
    "    Cp = Cp * 4186.8 #Convert to J/kgK"
   ]
  },
  {
   "cell_type": "code",
   "execution_count": 55,
   "metadata": {},
   "outputs": [
    {
     "data": {
      "text/plain": [
       "125.604"
      ]
     },
     "execution_count": 55,
     "metadata": {},
     "output_type": "execute_result"
    }
   ],
   "source": [
    "(3 * ( 10 ** - 2 ))*4186.8"
   ]
  },
  {
   "cell_type": "code",
   "execution_count": 56,
   "metadata": {},
   "outputs": [
    {
     "data": {
      "text/plain": [
       "0.083736"
      ]
     },
     "execution_count": 56,
     "metadata": {},
     "output_type": "execute_result"
    }
   ],
   "source": [
    "( 2 * ( 10 ** -5 ) )*4186.8"
   ]
  },
  {
   "cell_type": "code",
   "execution_count": 60,
   "metadata": {},
   "outputs": [
    {
     "data": {
      "text/plain": [
       "369.72086256983243"
      ]
     },
     "execution_count": 60,
     "metadata": {},
     "output_type": "execute_result"
    }
   ],
   "source": [
    "(0.08368*895) + 125.52 + (Lf/895)"
   ]
  },
  {
   "cell_type": "code",
   "execution_count": null,
   "metadata": {},
   "outputs": [],
   "source": []
  }
 ],
 "metadata": {
  "kernelspec": {
   "display_name": "Python 3",
   "language": "python",
   "name": "python3"
  },
  "language_info": {
   "codemirror_mode": {
    "name": "ipython",
    "version": 3
   },
   "file_extension": ".py",
   "mimetype": "text/x-python",
   "name": "python",
   "nbconvert_exporter": "python",
   "pygments_lexer": "ipython3",
   "version": "3.6.2"
  }
 },
 "nbformat": 4,
 "nbformat_minor": 2
}
