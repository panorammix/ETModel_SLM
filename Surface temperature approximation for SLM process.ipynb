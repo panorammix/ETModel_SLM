{
 "cells": [
  {
   "cell_type": "code",
   "execution_count": 7,
   "metadata": {},
   "outputs": [],
   "source": [
    "'''\n",
    "Newton-Raphson method to find roots to the nonlinear equation \n",
    "of the surface balance - Solve for surface temperature\n",
    "\n",
    "Marangoni convection is not included as a cooling term of the surface\n",
    "\n",
    "Material evaporation in not included as a cooling term of the surface \n",
    "\n",
    "Need to find a better way to include the latent heat term in the energy balance\n",
    "'''\n",
    "import numpy\n",
    "\n",
    "def flux(P,rb,x, y): \n",
    "    '''\n",
    "    Returns the Gaussian intensity distribution of the laser beam (W/m2)\n",
    "    '''\n",
    "    rsquared=(x**2)+(y**2)\n",
    "    q=((2*P)/(numpy.pi*(rb**2)))*numpy.exp(-(2*(rsquared)/(rb**2)))\n",
    "    return q"
   ]
  },
  {
   "cell_type": "code",
   "execution_count": 8,
   "metadata": {},
   "outputs": [],
   "source": [
    "# Thermophysical properties of Bi2Te3 and experimental conditions\n",
    "k =2.3 #2.3 # Thermal conductivity of Bi2Te3 in W/mK\n",
    "h = 15 # 10 W/m2K for low speed flow of air over surface in W/K\n",
    "L_f = 151.53 * (10**3) # Latent heat of fusion of Bi2Te3 (From MC thesis) J/kg\n",
    "C = 128 # Spec. heat capacity of Bi2Te3 at 300 K  J/kgK\n",
    "rho = 7642 # Bi2Te3 bulk density in kg/m3\n",
    "Tinf = 273 + 17 # Ambient T in K\n",
    "T_sub = 300 # Substrate temperature  in K\n",
    "sigma = 5.67 * ( 10 ** -8 ) # Boltzmann's constant \n",
    "epsilon = 0.8 # Emissivity of Bi2Te3 \n",
    "A = 0.6 # Absorptivity \n",
    "\n",
    "\n",
    "# Processing parameters\n",
    "rb= 25 * ( 10 ** -6 ) # Beam radius in meters\n",
    "L = 100 * ( 10 ** -6 ) # Layer thickness 100 and 150 micrometers\n",
    "P_laser = 15 # Watts\n",
    "P_abs = A * P_laser\n",
    "q_laser =  flux ( P_abs, rb, rb,rb) \n",
    "\n",
    "phi = 0.5 # Porosity of powder bed \n",
    "speed = 0.5 # Scan speed in m/s\n",
    "\n",
    "\n",
    "T = 1200 # Initial guess for surface temperature\n",
    "tolerance = 10**-6 # Tolerance for difference between two root calculations \n",
    "relax = 1"
   ]
  },
  {
   "cell_type": "code",
   "execution_count": 11,
   "metadata": {},
   "outputs": [],
   "source": [
    "rho_bed = rho * ( 1 - phi ) \n",
    "alpha = k/(rho_bed * C)\n",
    "\n",
    "affected = 2.5\n",
    "areg = affected * rb\n",
    "Ar = numpy.pi * (areg**2)\n",
    "time_melt = rb/speed\n",
    "#q_latent = ( (L_f * L * rho_bed)/time_melt ) /10\n",
    "#q_latent  = (L_f * L * rho_bed)\n",
    "q_latent = (L_f * L * Ar * rho_bed)/ (numpy.pi*(rb**2))\n",
    "#q_latent = 0\n",
    "q_trial = 0"
   ]
  },
  {
   "cell_type": "code",
   "execution_count": 12,
   "metadata": {},
   "outputs": [
    {
     "name": "stdout",
     "output_type": "stream",
     "text": [
      "5617.353850303528\n",
      "5617.335726453337\n",
      "Total iterations: 1\n",
      "Surface T approximation: 5617.335726402212 K\n"
     ]
    }
   ],
   "source": [
    "for i in range(1000): \n",
    "    To = T\n",
    "    print (T)\n",
    "    y =q_laser-((k/L)*(To - T_sub))-(h*(To-Tinf))-(epsilon*sigma*((To**4)-(Tinf**4)))- q_latent - q_trial\n",
    "    y_dev = -(k/L)-h- (4*epsilon*sigma*(To**3))\n",
    "    T = To - (relax*(y/y_dev))\n",
    "    if abs(T-To)<=tolerance:\n",
    "        break\n",
    "print ('Total iterations:', i)\n",
    "print ('Surface T approximation:', T, 'K')"
   ]
  }
 ],
 "metadata": {
  "kernelspec": {
   "display_name": "Python 3",
   "language": "python",
   "name": "python3"
  },
  "language_info": {
   "codemirror_mode": {
    "name": "ipython",
    "version": 3
   },
   "file_extension": ".py",
   "mimetype": "text/x-python",
   "name": "python",
   "nbconvert_exporter": "python",
   "pygments_lexer": "ipython3",
   "version": "3.6.2"
  }
 },
 "nbformat": 4,
 "nbformat_minor": 2
}
